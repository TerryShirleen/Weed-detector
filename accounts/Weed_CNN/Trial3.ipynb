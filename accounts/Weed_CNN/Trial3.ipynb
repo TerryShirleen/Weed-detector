{
 "cells": [
  {
   "cell_type": "code",
   "execution_count": 1,
   "id": "e8e0c5b6",
   "metadata": {},
   "outputs": [],
   "source": [
    "import numpy as np\n",
    "import tensorflow as tf\n",
    "from tensorflow import keras\n",
    "from tensorflow.keras.models import Sequential\n",
    "from tensorflow.keras.layers import Activation, Dense, Flatten, BatchNormalization, Conv2D, MaxPool2D\n",
    "from tensorflow.keras.optimizers import Adam\n",
    "from tensorflow.keras.metrics import categorical_crossentropy\n",
    "from tensorflow.keras.preprocessing.image import ImageDataGenerator\n",
    "from sklearn.metrics import confusion_matrix\n",
    "import itertools\n",
    "import os\n",
    "import shutil\n",
    "import random\n",
    "import glob\n",
    "import matplotlib.pyplot as plt\n",
    "import warnings\n",
    "warnings.simplefilter(action='ignore', category=FutureWarning)\n",
    "%matplotlib inline"
   ]
  },
  {
   "cell_type": "code",
   "execution_count": 5,
   "id": "1fc2f987",
   "metadata": {},
   "outputs": [],
   "source": [
    "os.chdir('C:/Users/Lenovo/Desktop/Weed_CNN/weed detection.v3i.tensorflow')\n",
    "if os.path.isdir('train/weed') is False:\n",
    "    os.makedirs('train/weed')\n",
    "    os.makedirs('train/plant')\n",
    "    os.makedirs('valid/weed')\n",
    "    os.makedirs('valid/plant')\n",
    "    os.makedirs('test/weed')\n",
    "    os.makedirs('test/plant')\n",
    "    \n",
    "    for c in random.sample(glob.glob('plant*'), 200):\n",
    "        shutil.move(c, 'train/plant' )\n",
    "    for c in random.sample(glob.glob('weed*'), 200):\n",
    "        shutil.move(c, 'train/weed' )\n",
    "    for c in random.sample(glob.glob('plant*'), 100):\n",
    "        shutil.move(c, 'valid/plant' )\n",
    "    for c in random.sample(glob.glob('weed*'), 100):\n",
    "        shutil.move(c, 'valid/weed' )\n",
    "    for c in random.sample(glob.glob('plant*'), 50):\n",
    "        shutil.move(c, 'test/plant' )\n",
    "    for c in random.sample(glob.glob('weed*'), 50):\n",
    "        shutil.move(c, 'test/plant' )\n",
    "    "
   ]
  },
  {
   "cell_type": "code",
   "execution_count": 6,
   "id": "7e43ac93",
   "metadata": {},
   "outputs": [],
   "source": [
    "train_path = '\"C:/Users/Lenovo/Desktop/Weed_CNN/weed detection.v3i.tensorflow/train\"'\n",
    "test_path = '\"C:/Users/Lenovo/Desktop/Weed_CNN/weed detection.v3i.tensorflow/test\"'\n",
    "valid_path = '\"C:/Users/Lenovo/Desktop/Weed_CNN/weed detection.v3i.tensorflow/valid\"'\n"
   ]
  },
  {
   "cell_type": "code",
   "execution_count": 7,
   "id": "8133d93c",
   "metadata": {},
   "outputs": [
    {
     "name": "stdout",
     "output_type": "stream",
     "text": [
      "Found 0 images belonging to 2 classes.\n",
      "Found 0 images belonging to 2 classes.\n",
      "Found 0 images belonging to 2 classes.\n"
     ]
    }
   ],
   "source": [
    "train_batches = ImageDataGenerator(preprocessing_function=tf.keras.applications.vgg16.preprocess_input) \\\n",
    "    .flow_from_directory(directory=train_path, target_size=(224,224), classes=['plant', 'weed'], batch_size=10)\n",
    "valid_batches = ImageDataGenerator(preprocessing_function=tf.keras.applications.vgg16.preprocess_input) \\\n",
    "    .flow_from_directory(directory=valid_path, target_size=(224,224), classes=['plant', 'weed'], batch_size=10)\n",
    "test_batches = ImageDataGenerator(preprocessing_function=tf.keras.applications.vgg16.preprocess_input) \\\n",
    "    .flow_from_directory(directory=test_path, target_size=(224,224), classes=['plant', 'weed'], batch_size=10, shuffle=False)"
   ]
  },
  {
   "cell_type": "code",
   "execution_count": null,
   "id": "27a54fa5",
   "metadata": {},
   "outputs": [],
   "source": [
    "os.chdir('C:/Users/Lenovo/Desktop/Weed_CNN/WeedCrop.v1i.yolov5pytorch')\n",
    "if os.path.isdir('train/images') is False:\n",
    "    os.makedirs('train/images')\n",
    "    os.makedirs('train/labels')\n",
    "    os.makedirs('valid/images')\n",
    "    os.makedirs('valid/labels')\n",
    "    os.makedirs('test/images')\n",
    "    os.makedirs('test/labels')\n",
    "    \n",
    "    for c in random.sample(glob.glob('images*'), 200):\n",
    "        shutil.move(c, 'train/images' )\n",
    "    for c in random.sample(glob.glob('labels*'), 00):\n",
    "        shutil.move(c, 'train/labels' )\n",
    "    for c in random.sample(glob.glob('images*'), 100):\n",
    "        shutil.move(c, 'valid/images' )\n",
    "    for c in random.sample(glob.glob('labels*'), 100):\n",
    "        shutil.move(c, 'valid/labels' )\n",
    "    for c in random.sample(glob.glob('images*'), 50):\n",
    "        shutil.move(c, 'test/images' )\n",
    "    for c in random.sample(glob.glob('labels*'), 50):\n",
    "        shutil.move(c, 'test/labels' )"
   ]
  },
  {
   "cell_type": "code",
   "execution_count": 2,
   "id": "c778f85d",
   "metadata": {},
   "outputs": [
    {
     "name": "stdout",
     "output_type": "stream",
     "text": [
      "Found 2469 images belonging to 2 classes.\n",
      "Found 235 images belonging to 2 classes.\n"
     ]
    }
   ],
   "source": [
    "from tensorflow.keras.preprocessing.image import ImageDataGenerator\n",
    "\n",
    "train_datagen = ImageDataGenerator(rescale=1./255, shear_range=0.2, zoom_range=0.2, horizontal_flip=True)\n",
    "valid_datagen = ImageDataGenerator(rescale=1./255)\n",
    "\n",
    "train_batches = train_datagen.flow_from_directory(directory='C:/Users/Lenovo/Desktop/Weed_CNN/WeedCrop.v1i.yolov5pytorch/train', target_size=(224, 224), class_mode='binary', batch_size=10)\n",
    "valid_batches = valid_datagen.flow_from_directory(directory='C:/Users/Lenovo/Desktop/Weed_CNN/WeedCrop.v1i.yolov5pytorch/valid', target_size=(224, 224), class_mode='binary', batch_size=10)\n"
   ]
  },
  {
   "cell_type": "code",
   "execution_count": null,
   "id": "38359580",
   "metadata": {},
   "outputs": [],
   "source": [
    "from tensorflow.keras.models import Sequential\n",
    "from tensorflow.keras.layers import Conv2D, MaxPooling2D, Flatten, Dense\n",
    "\n",
    "model = Sequential([\n",
    "    Conv2D(32, (3, 3), activation='relu', input_shape=(224, 224, 3)),\n",
    "    MaxPooling2D((2, 2)),\n",
    "    Conv2D(64, (3, 3), activation='relu'),\n",
    "    MaxPooling2D((2, 2)),\n",
    "    Conv2D(128, (3, 3), activation='relu'),\n",
    "    MaxPooling2D((2, 2)),\n",
    "    Flatten(),\n",
    "    Dense(128, activation='relu'),\n",
    "    Dense(1, activation='sigmoid')  # Binary classification, so use 'sigmoid' activation\n",
    "])\n",
    "\n",
    "model.compile(optimizer='adam', loss='binary_crossentropy', metrics=['accuracy'])\n"
   ]
  },
  {
   "cell_type": "code",
   "execution_count": null,
   "id": "092236aa",
   "metadata": {},
   "outputs": [],
   "source": [
    "model.fit(x=train_batches, validation_data=valid_batches, epochs=10, verbose=2)"
   ]
  },
  {
   "cell_type": "code",
   "execution_count": null,
   "id": "8811415d",
   "metadata": {},
   "outputs": [],
   "source": [
    "from tensorflow.keras.preprocessing.image import ImageDataGenerator\n",
    "\n",
    "train_datagen = ImageDataGenerator(rescale=1./255, shear_range=0.2, zoom_range=0.2, horizontal_flip=True)\n",
    "valid_datagen = ImageDataGenerator(rescale=1./255)\n",
    "test_datagen = ImageDataGenerator(rescale=1./255, shear_range=0.2, zoom_range=0.2, horizontal_flip=True)\n",
    "\n",
    "train_batches = train_datagen.flow_from_directory(directory='C:/Users/Lenovo/Desktop/Weed_CNN/WeedCrop.v1i.yolov5pytorch/train', target_size=(224, 224), class_mode='binary', batch_size=10)\n",
    "valid_batches = valid_datagen.flow_from_directory(directory='C:/Users/Lenovo/Desktop/Weed_CNN/WeedCrop.v1i.yolov5pytorch/valid', target_size=(224, 224), class_mode='binary', batch_size=10)\n",
    "test_batches = test_datagen.flow_from_directory(directory='C:/Users/Lenovo/Desktop/Weed_CNN/WeedCrop.v1i.yolov5pytorch/test', target_size=(224, 224), class_mode='binary', batch_size=10)"
   ]
  },
  {
   "cell_type": "code",
   "execution_count": null,
   "id": "ba4f852b",
   "metadata": {},
   "outputs": [],
   "source": [
    "from tensorflow.keras.models import Sequential\n",
    "from tensorflow.keras.layers import Conv2D, MaxPooling2D, Flatten, Dense\n",
    "\n",
    "model = Sequential([\n",
    "    Conv2D(32, (3, 3), activation='relu', input_shape=(224, 224, 3)),\n",
    "    MaxPooling2D((2, 2)),\n",
    "    Conv2D(64, (3, 3), activation='relu'),\n",
    "    MaxPooling2D((2, 2)),\n",
    "    Conv2D(128, (3, 3), activation='relu'),\n",
    "    MaxPooling2D((2, 2)),\n",
    "    Flatten(),\n",
    "    Dense(128, activation='relu'),\n",
    "    Dense(1, activation='sigmoid')  # Binary classification, so use 'sigmoid' activation\n",
    "])\n",
    "\n",
    "model.compile(optimizer=Adam(learning_rate=0.0001), loss='binary_crossentropy', metrics=['accuracy'])"
   ]
  },
  {
   "cell_type": "code",
   "execution_count": null,
   "id": "cd805493",
   "metadata": {},
   "outputs": [],
   "source": [
    "model.fit(x=train_batches, validation_data=valid_batches, epochs=10, verbose=2)"
   ]
  }
 ],
 "metadata": {
  "kernelspec": {
   "display_name": "Python 3 (ipykernel)",
   "language": "python",
   "name": "python3"
  },
  "language_info": {
   "codemirror_mode": {
    "name": "ipython",
    "version": 3
   },
   "file_extension": ".py",
   "mimetype": "text/x-python",
   "name": "python",
   "nbconvert_exporter": "python",
   "pygments_lexer": "ipython3",
   "version": "3.11.5"
  }
 },
 "nbformat": 4,
 "nbformat_minor": 5
}
